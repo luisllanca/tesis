{
 "cells": [
  {
   "cell_type": "code",
   "execution_count": 1,
   "id": "0fe33a37",
   "metadata": {},
   "outputs": [],
   "source": [
    "import torch.nn as nn\n",
    "import polars as pl\n",
    "from tqdm import tqdm\n",
    "import pickle as pkl\n",
    "import numpy as np\n",
    "import matplotlib.pyplot as plt\n",
    "import pandas as pd\n",
    "from sklearn.model_selection import train_test_split\n",
    "from torch.utils.data import TensorDataset, DataLoader"
   ]
  },
  {
   "cell_type": "code",
   "execution_count": 2,
   "id": "27b8269a",
   "metadata": {},
   "outputs": [],
   "source": [
    "with open(\"dataset/4clasess.pkl\",\"rb\") as f: ##se carga el dataset con mas de 20 observaciones,sin nans,-inf,inf \n",
    "    data = pkl.load(f)\n",
    "target = [elem[\"class\"] for elem in data]"
   ]
  },
  {
   "cell_type": "code",
   "execution_count": 3,
   "id": "bad6d415",
   "metadata": {},
   "outputs": [
    {
     "data": {
      "text/html": [
       "<div><style>\n",
       ".dataframe > thead > tr,\n",
       ".dataframe > tbody > tr {\n",
       "  text-align: right;\n",
       "  white-space: pre-wrap;\n",
       "}\n",
       "</style>\n",
       "<small>shape: (9, 13)</small><table border=\"1\" class=\"dataframe\"><thead><tr><th>statistic</th><th></th><th>PeriodLS_v2</th><th>Mean</th><th>GP_DRW_sigma</th><th>GP_DRW_tau</th><th>IAR_phi</th><th>Amplitude</th><th>ExcessVar</th><th>Meanvariance</th><th>Std</th><th>SF_ML_amplitude</th><th>id</th></tr><tr><td>str</td><td>f64</td><td>f64</td><td>f64</td><td>f64</td><td>f64</td><td>f64</td><td>f64</td><td>f64</td><td>f64</td><td>f64</td><td>f64</td><td>f64</td></tr></thead><tbody><tr><td>&quot;count&quot;</td><td>178754.0</td><td>178754.0</td><td>178754.0</td><td>178754.0</td><td>178754.0</td><td>178754.0</td><td>178754.0</td><td>178754.0</td><td>178754.0</td><td>178754.0</td><td>178754.0</td><td>178754.0</td></tr><tr><td>&quot;null_count&quot;</td><td>0.0</td><td>0.0</td><td>0.0</td><td>0.0</td><td>0.0</td><td>0.0</td><td>0.0</td><td>0.0</td><td>0.0</td><td>0.0</td><td>0.0</td><td>0.0</td></tr><tr><td>&quot;mean&quot;</td><td>89376.5</td><td>22.270092</td><td>4.8889e-19</td><td>0.568473</td><td>7947.423822</td><td>0.600156</td><td>1.740767</td><td>NaN</td><td>inf</td><td>1.0</td><td>1.059425</td><td>89376.5</td></tr><tr><td>&quot;std&quot;</td><td>51601.979347</td><td>95.165108</td><td>1.3451e-16</td><td>0.574475</td><td>268961.446576</td><td>0.416557</td><td>0.194285</td><td>NaN</td><td>NaN</td><td>2.0873e-16</td><td>1.792104</td><td>51601.979347</td></tr><tr><td>&quot;min&quot;</td><td>0.0</td><td>0.050004</td><td>-4.8809e-15</td><td>2.1405e-7</td><td>1.2052e-209</td><td>3.3349e-13</td><td>0.207087</td><td>-inf</td><td>-2.8247e19</td><td>1.0</td><td>-0.5</td><td>0.0</td></tr><tr><td>&quot;25%&quot;</td><td>44688.0</td><td>0.087137</td><td>-6.1254e-17</td><td>0.000003</td><td>0.573813</td><td>0.097004</td><td>1.610189</td><td>-1.9579e32</td><td>-1.5012e16</td><td>1.0</td><td>0.075931</td><td>44688.0</td></tr><tr><td>&quot;50%&quot;</td><td>89377.0</td><td>0.235463</td><td>0.0</td><td>0.562237</td><td>1.081127</td><td>0.794922</td><td>1.733041</td><td>3.4856e31</td><td>4.6704e15</td><td>1.0</td><td>0.948952</td><td>89377.0</td></tr><tr><td>&quot;75%&quot;</td><td>134065.0</td><td>0.997847</td><td>6.1254e-17</td><td>0.972489</td><td>28.263565</td><td>0.992502</td><td>1.861802</td><td>2.2878e32</td><td>1.7758e16</td><td>1.0</td><td>1.530445</td><td>134065.0</td></tr><tr><td>&quot;max&quot;</td><td>178753.0</td><td>904.761832</td><td>6.8945e-15</td><td>17.762507</td><td>5.0229e7</td><td>1.0</td><td>3.374575</td><td>inf</td><td>inf</td><td>1.0</td><td>15.0</td><td>178753.0</td></tr></tbody></table></div>"
      ],
      "text/plain": [
       "shape: (9, 13)\n",
       "┌───────────┬───────────┬───────────┬───────────┬───┬───────────┬───────────┬───────────┬──────────┐\n",
       "│ statistic ┆           ┆ PeriodLS_ ┆ Mean      ┆ … ┆ Meanvaria ┆ Std       ┆ SF_ML_amp ┆ id       │\n",
       "│ ---       ┆ ---       ┆ v2        ┆ ---       ┆   ┆ nce       ┆ ---       ┆ litude    ┆ ---      │\n",
       "│ str       ┆ f64       ┆ ---       ┆ f64       ┆   ┆ ---       ┆ f64       ┆ ---       ┆ f64      │\n",
       "│           ┆           ┆ f64       ┆           ┆   ┆ f64       ┆           ┆ f64       ┆          │\n",
       "╞═══════════╪═══════════╪═══════════╪═══════════╪═══╪═══════════╪═══════════╪═══════════╪══════════╡\n",
       "│ count     ┆ 178754.0  ┆ 178754.0  ┆ 178754.0  ┆ … ┆ 178754.0  ┆ 178754.0  ┆ 178754.0  ┆ 178754.0 │\n",
       "│ null_coun ┆ 0.0       ┆ 0.0       ┆ 0.0       ┆ … ┆ 0.0       ┆ 0.0       ┆ 0.0       ┆ 0.0      │\n",
       "│ t         ┆           ┆           ┆           ┆   ┆           ┆           ┆           ┆          │\n",
       "│ mean      ┆ 89376.5   ┆ 22.270092 ┆ 4.8889e-1 ┆ … ┆ inf       ┆ 1.0       ┆ 1.059425  ┆ 89376.5  │\n",
       "│           ┆           ┆           ┆ 9         ┆   ┆           ┆           ┆           ┆          │\n",
       "│ std       ┆ 51601.979 ┆ 95.165108 ┆ 1.3451e-1 ┆ … ┆ NaN       ┆ 2.0873e-1 ┆ 1.792104  ┆ 51601.97 │\n",
       "│           ┆ 347       ┆           ┆ 6         ┆   ┆           ┆ 6         ┆           ┆ 9347     │\n",
       "│ min       ┆ 0.0       ┆ 0.050004  ┆ -4.8809e- ┆ … ┆ -2.8247e1 ┆ 1.0       ┆ -0.5      ┆ 0.0      │\n",
       "│           ┆           ┆           ┆ 15        ┆   ┆ 9         ┆           ┆           ┆          │\n",
       "│ 25%       ┆ 44688.0   ┆ 0.087137  ┆ -6.1254e- ┆ … ┆ -1.5012e1 ┆ 1.0       ┆ 0.075931  ┆ 44688.0  │\n",
       "│           ┆           ┆           ┆ 17        ┆   ┆ 6         ┆           ┆           ┆          │\n",
       "│ 50%       ┆ 89377.0   ┆ 0.235463  ┆ 0.0       ┆ … ┆ 4.6704e15 ┆ 1.0       ┆ 0.948952  ┆ 89377.0  │\n",
       "│ 75%       ┆ 134065.0  ┆ 0.997847  ┆ 6.1254e-1 ┆ … ┆ 1.7758e16 ┆ 1.0       ┆ 1.530445  ┆ 134065.0 │\n",
       "│           ┆           ┆           ┆ 7         ┆   ┆           ┆           ┆           ┆          │\n",
       "│ max       ┆ 178753.0  ┆ 904.76183 ┆ 6.8945e-1 ┆ … ┆ inf       ┆ 1.0       ┆ 15.0      ┆ 178753.0 │\n",
       "│           ┆           ┆ 2         ┆ 5         ┆   ┆           ┆           ┆           ┆          │\n",
       "└───────────┴───────────┴───────────┴───────────┴───┴───────────┴───────────┴───────────┴──────────┘"
      ]
     },
     "execution_count": 3,
     "metadata": {},
     "output_type": "execute_result"
    }
   ],
   "source": [
    "features = pl.read_csv(\"data.csv\")\n",
    "features.describe()"
   ]
  },
  {
   "cell_type": "code",
   "execution_count": 4,
   "id": "4a1edd21",
   "metadata": {},
   "outputs": [
    {
     "data": {
      "text/html": [
       "<div><style>\n",
       ".dataframe > thead > tr,\n",
       ".dataframe > tbody > tr {\n",
       "  text-align: right;\n",
       "  white-space: pre-wrap;\n",
       "}\n",
       "</style>\n",
       "<small>shape: (178_754, 6)</small><table border=\"1\" class=\"dataframe\"><thead><tr><th>PeriodLS_v2</th><th>GP_DRW_sigma</th><th>GP_DRW_tau</th><th>IAR_phi</th><th>Amplitude</th><th>SF_ML_amplitude</th></tr><tr><td>f64</td><td>f64</td><td>f64</td><td>f64</td><td>f64</td><td>f64</td></tr></thead><tbody><tr><td>0.296472</td><td>0.059642</td><td>1.819084</td><td>0.510499</td><td>1.714204</td><td>0.112959</td></tr><tr><td>0.056712</td><td>0.000004</td><td>1.437435</td><td>0.99171</td><td>2.051243</td><td>-0.5</td></tr><tr><td>0.051169</td><td>9.7203e-7</td><td>1.293458</td><td>1.0</td><td>1.887421</td><td>-0.5</td></tr><tr><td>0.064801</td><td>0.141447</td><td>19.375533</td><td>0.997312</td><td>2.064402</td><td>0.758753</td></tr><tr><td>0.660869</td><td>0.000002</td><td>1.049287</td><td>0.913965</td><td>1.640656</td><td>0.226225</td></tr><tr><td>&hellip;</td><td>&hellip;</td><td>&hellip;</td><td>&hellip;</td><td>&hellip;</td><td>&hellip;</td></tr><tr><td>0.291304</td><td>0.994311</td><td>0.033928</td><td>4.2301e-13</td><td>1.695227</td><td>1.109116</td></tr><tr><td>0.057773</td><td>0.000002</td><td>0.590208</td><td>0.123261</td><td>1.848301</td><td>15.0</td></tr><tr><td>0.318498</td><td>1.05257</td><td>0.514109</td><td>0.177959</td><td>1.399494</td><td>2.284552</td></tr><tr><td>0.387898</td><td>0.849826</td><td>0.208713</td><td>0.023509</td><td>1.443964</td><td>1.58625</td></tr><tr><td>0.206654</td><td>1.000031</td><td>0.225022</td><td>0.01288</td><td>1.486466</td><td>2.643571</td></tr></tbody></table></div>"
      ],
      "text/plain": [
       "shape: (178_754, 6)\n",
       "┌─────────────┬──────────────┬────────────┬────────────┬───────────┬─────────────────┐\n",
       "│ PeriodLS_v2 ┆ GP_DRW_sigma ┆ GP_DRW_tau ┆ IAR_phi    ┆ Amplitude ┆ SF_ML_amplitude │\n",
       "│ ---         ┆ ---          ┆ ---        ┆ ---        ┆ ---       ┆ ---             │\n",
       "│ f64         ┆ f64          ┆ f64        ┆ f64        ┆ f64       ┆ f64             │\n",
       "╞═════════════╪══════════════╪════════════╪════════════╪═══════════╪═════════════════╡\n",
       "│ 0.296472    ┆ 0.059642     ┆ 1.819084   ┆ 0.510499   ┆ 1.714204  ┆ 0.112959        │\n",
       "│ 0.056712    ┆ 0.000004     ┆ 1.437435   ┆ 0.99171    ┆ 2.051243  ┆ -0.5            │\n",
       "│ 0.051169    ┆ 9.7203e-7    ┆ 1.293458   ┆ 1.0        ┆ 1.887421  ┆ -0.5            │\n",
       "│ 0.064801    ┆ 0.141447     ┆ 19.375533  ┆ 0.997312   ┆ 2.064402  ┆ 0.758753        │\n",
       "│ 0.660869    ┆ 0.000002     ┆ 1.049287   ┆ 0.913965   ┆ 1.640656  ┆ 0.226225        │\n",
       "│ …           ┆ …            ┆ …          ┆ …          ┆ …         ┆ …               │\n",
       "│ 0.291304    ┆ 0.994311     ┆ 0.033928   ┆ 4.2301e-13 ┆ 1.695227  ┆ 1.109116        │\n",
       "│ 0.057773    ┆ 0.000002     ┆ 0.590208   ┆ 0.123261   ┆ 1.848301  ┆ 15.0            │\n",
       "│ 0.318498    ┆ 1.05257      ┆ 0.514109   ┆ 0.177959   ┆ 1.399494  ┆ 2.284552        │\n",
       "│ 0.387898    ┆ 0.849826     ┆ 0.208713   ┆ 0.023509   ┆ 1.443964  ┆ 1.58625         │\n",
       "│ 0.206654    ┆ 1.000031     ┆ 0.225022   ┆ 0.01288    ┆ 1.486466  ┆ 2.643571        │\n",
       "└─────────────┴──────────────┴────────────┴────────────┴───────────┴─────────────────┘"
      ]
     },
     "execution_count": 4,
     "metadata": {},
     "output_type": "execute_result"
    }
   ],
   "source": [
    "features = features.drop([\"Mean\",\"ExcessVar\",\"Meanvariance\",\"Std\",\"id\",\"\"])\n",
    "features"
   ]
  },
  {
   "cell_type": "code",
   "execution_count": 5,
   "id": "e51c5e86",
   "metadata": {},
   "outputs": [],
   "source": [
    "import torch\n",
    "import torch.nn as nn\n",
    "import torch.nn.functional as F\n",
    "\n",
    "class LightCurveClassifier(nn.Module):\n",
    "    def __init__(self, input_dim=12, num_classes=4):\n",
    "        super(LightCurveClassifier, self).__init__()\n",
    "        self.fc1 = nn.Linear(input_dim, 128)\n",
    "        self.bn1 = nn.BatchNorm1d(128)\n",
    "        self.dropout1 = nn.Dropout(0.3)\n",
    "\n",
    "        self.fc2 = nn.Linear(128, 64)\n",
    "        self.bn2 = nn.BatchNorm1d(64)\n",
    "        self.dropout2 = nn.Dropout(0.3)\n",
    "\n",
    "        self.fc3 = nn.Linear(64, 32)\n",
    "        self.bn3 = nn.BatchNorm1d(32)\n",
    "\n",
    "        self.out = nn.Linear(32, num_classes)\n",
    "\n",
    "    def forward(self, x):\n",
    "        x = F.relu(self.bn1(self.fc1(x)))\n",
    "        x = self.dropout1(x)\n",
    "\n",
    "        x = F.relu(self.bn2(self.fc2(x)))\n",
    "        x = self.dropout2(x)\n",
    "\n",
    "        x = F.relu(self.bn3(self.fc3(x)))\n",
    "        return self.out(x)\n"
   ]
  },
  {
   "cell_type": "code",
   "execution_count": 13,
   "id": "7931e8f2",
   "metadata": {},
   "outputs": [],
   "source": [
    "import torch\n",
    "from torch.utils.data import DataLoader, TensorDataset\n",
    "from sklearn.model_selection import train_test_split\n",
    "from sklearn.preprocessing import StandardScaler\n",
    "\n",
    "# Paso 1: Convertir Polars DataFrame y lista de etiquetas\n",
    "X = features.to_numpy()\n",
    "y = target  # asegúrate de que sea una lista o array\n",
    "\n",
    "# Paso 2: Escalar características\n",
    "scaler = StandardScaler()\n",
    "X_scaled = scaler.fit_transform(X)\n",
    "\n",
    "# Paso 3: Dividir datos\n",
    "X_train, X_test, y_train, y_test = train_test_split(X_scaled, y, test_size=0.2, random_state=42)\n",
    "\n",
    "# Paso 4: Convertir a tensores\n",
    "X_train_tensor = torch.tensor(X_train, dtype=torch.float32)\n",
    "y_train_tensor = torch.tensor(y_train, dtype=torch.long)\n",
    "X_test_tensor = torch.tensor(X_test, dtype=torch.float32)\n",
    "y_test_tensor = torch.tensor(y_test, dtype=torch.long)\n",
    "\n",
    "# Paso 5: Crear datasets y dataloaders\n",
    "train_dataset = TensorDataset(X_train_tensor, y_train_tensor)\n",
    "test_dataset = TensorDataset(X_test_tensor, y_test_tensor)\n",
    "train_loader = DataLoader(train_dataset, batch_size=64, shuffle=True)\n",
    "test_loader = DataLoader(test_dataset, batch_size=32)\n"
   ]
  },
  {
   "cell_type": "code",
   "execution_count": 15,
   "id": "5a8f907b",
   "metadata": {},
   "outputs": [
    {
     "data": {
      "text/plain": [
       "'cuda:1'"
      ]
     },
     "execution_count": 15,
     "metadata": {},
     "output_type": "execute_result"
    }
   ],
   "source": [
    "device = torch.device(\"cuda:0\" if torch.cuda.is_available() else \"cpu\")\n",
    "device = \"cuda:1\"\n",
    "model = LightCurveClassifier(input_dim=6, num_classes=4).to(device)\n",
    "criterion = torch.nn.CrossEntropyLoss()\n",
    "optimizer = torch.optim.Adam(model.parameters(), lr=1e-2)\n",
    "device"
   ]
  },
  {
   "cell_type": "code",
   "execution_count": 18,
   "id": "06d96e70",
   "metadata": {},
   "outputs": [
    {
     "name": "stdout",
     "output_type": "stream",
     "text": [
      "Epoch 1/50 - Train Loss: 0.6278 - Val Loss: 0.6013\n",
      "Epoch 2/50 - Train Loss: 0.6293 - Val Loss: 0.6027\n",
      "Epoch 3/50 - Train Loss: 0.6289 - Val Loss: 0.6236\n",
      "Epoch 4/50 - Train Loss: 0.6265 - Val Loss: 0.6261\n",
      "Epoch 5/50 - Train Loss: 0.6254 - Val Loss: 0.6145\n",
      "Epoch 6/50 - Train Loss: 0.6261 - Val Loss: 0.6610\n",
      "Epoch 7/50 - Train Loss: 0.6252 - Val Loss: 0.6244\n",
      "Epoch 8/50 - Train Loss: 0.6248 - Val Loss: 0.7447\n",
      "Epoch 9/50 - Train Loss: 0.6244 - Val Loss: 0.6325\n",
      "Epoch 10/50 - Train Loss: 0.6254 - Val Loss: 0.6101\n",
      "Epoch 11/50 - Train Loss: 0.6239 - Val Loss: 0.6187\n",
      "Epoch 12/50 - Train Loss: 0.6227 - Val Loss: 0.6183\n",
      "Epoch 13/50 - Train Loss: 0.6230 - Val Loss: 0.6303\n",
      "Epoch 14/50 - Train Loss: 0.6227 - Val Loss: 0.6139\n",
      "Epoch 15/50 - Train Loss: 0.6229 - Val Loss: 0.6224\n",
      "Epoch 16/50 - Train Loss: 0.6213 - Val Loss: 0.6279\n",
      "Epoch 17/50 - Train Loss: 0.6184 - Val Loss: 0.6106\n",
      "Epoch 18/50 - Train Loss: 0.6193 - Val Loss: 0.6297\n",
      "Epoch 19/50 - Train Loss: 0.6186 - Val Loss: 0.6217\n",
      "Epoch 20/50 - Train Loss: 0.6196 - Val Loss: 0.6255\n",
      "Epoch 21/50 - Train Loss: 0.6178 - Val Loss: 0.6394\n",
      "Epoch 22/50 - Train Loss: 0.6187 - Val Loss: 0.6392\n",
      "Epoch 23/50 - Train Loss: 0.6178 - Val Loss: 0.6273\n",
      "Epoch 24/50 - Train Loss: 0.6178 - Val Loss: 0.6234\n",
      "Epoch 25/50 - Train Loss: 0.6171 - Val Loss: 0.6191\n",
      "Epoch 26/50 - Train Loss: 0.6169 - Val Loss: 0.6207\n",
      "Epoch 27/50 - Train Loss: 0.6168 - Val Loss: 0.6294\n",
      "Epoch 28/50 - Train Loss: 0.6173 - Val Loss: 0.6269\n",
      "Epoch 29/50 - Train Loss: 0.6161 - Val Loss: 0.6296\n",
      "Epoch 30/50 - Train Loss: 0.6150 - Val Loss: 0.6138\n",
      "Epoch 31/50 - Train Loss: 0.6162 - Val Loss: 0.6463\n",
      "Epoch 32/50 - Train Loss: 0.6139 - Val Loss: 0.6200\n",
      "Epoch 33/50 - Train Loss: 0.6161 - Val Loss: 0.6406\n",
      "Epoch 34/50 - Train Loss: 0.6149 - Val Loss: 0.6325\n",
      "Epoch 35/50 - Train Loss: 0.6145 - Val Loss: 0.6362\n",
      "Epoch 36/50 - Train Loss: 0.6148 - Val Loss: 0.6394\n",
      "Epoch 37/50 - Train Loss: 0.6134 - Val Loss: 0.6280\n",
      "Epoch 38/50 - Train Loss: 0.6142 - Val Loss: 0.6155\n",
      "Epoch 39/50 - Train Loss: 0.6145 - Val Loss: 0.6416\n",
      "Epoch 40/50 - Train Loss: 0.6139 - Val Loss: 0.6315\n",
      "Epoch 41/50 - Train Loss: 0.6125 - Val Loss: 0.6189\n",
      "Epoch 42/50 - Train Loss: 0.6137 - Val Loss: 0.6118\n",
      "Epoch 43/50 - Train Loss: 0.6130 - Val Loss: 0.6405\n",
      "Epoch 44/50 - Train Loss: 0.6141 - Val Loss: 0.6245\n",
      "Epoch 45/50 - Train Loss: 0.6132 - Val Loss: 0.6308\n",
      "Epoch 46/50 - Train Loss: 0.6121 - Val Loss: 0.6291\n",
      "Epoch 47/50 - Train Loss: 0.6132 - Val Loss: 0.6196\n",
      "Epoch 48/50 - Train Loss: 0.6129 - Val Loss: 0.6482\n",
      "Epoch 49/50 - Train Loss: 0.6115 - Val Loss: 0.6338\n",
      "Epoch 50/50 - Train Loss: 0.6128 - Val Loss: 0.6289\n"
     ]
    }
   ],
   "source": [
    "import matplotlib.pyplot as plt\n",
    "\n",
    "train_losses = []\n",
    "val_losses = []\n",
    "\n",
    "num_epochs = 50\n",
    "\n",
    "for epoch in range(num_epochs):\n",
    "    model.train()\n",
    "    total_loss = 0\n",
    "\n",
    "    for X_batch, y_batch in train_loader:\n",
    "        X_batch = X_batch.to(device)\n",
    "        y_batch = y_batch.to(device)\n",
    "\n",
    "        optimizer.zero_grad()\n",
    "        outputs = model(X_batch)\n",
    "        loss = criterion(outputs, y_batch)\n",
    "        loss.backward()\n",
    "        optimizer.step()\n",
    "        total_loss += loss.item()\n",
    "\n",
    "    avg_train_loss = total_loss / len(train_loader)\n",
    "    train_losses.append(avg_train_loss)\n",
    "\n",
    "    # Validación\n",
    "    model.eval()\n",
    "    val_loss = 0\n",
    "    with torch.no_grad():\n",
    "        for X_val, y_val in test_loader:\n",
    "            X_val = X_val.to(device)\n",
    "            y_val = y_val.to(device)\n",
    "            val_outputs = model(X_val)\n",
    "            loss = criterion(val_outputs, y_val)\n",
    "            val_loss += loss.item()\n",
    "    avg_val_loss = val_loss / len(test_loader)\n",
    "    val_losses.append(avg_val_loss)\n",
    "\n",
    "    print(f\"Epoch {epoch+1}/{num_epochs} - Train Loss: {avg_train_loss:.4f} - Val Loss: {avg_val_loss:.4f}\")\n"
   ]
  },
  {
   "cell_type": "code",
   "execution_count": 19,
   "id": "b98a3c9e",
   "metadata": {},
   "outputs": [
    {
     "data": {
      "image/png": "[encoded data removed]",
      "text/plain": [
       "<Figure size 640x480 with 1 Axes>"
      ]
     },
     "metadata": {},
     "output_type": "display_data"
    }
   ],
   "source": [
    "plt.plot(train_losses, label='Train Loss')\n",
    "plt.plot(val_losses, label='Validation Loss')\n",
    "plt.xlabel('Epoch')\n",
    "plt.ylabel('Loss')\n",
    "plt.title('Training and Validation Loss')\n",
    "plt.legend()\n",
    "plt.grid(True)\n",
    "plt.show()\n"
   ]
  },
  {
   "cell_type": "code",
   "execution_count": null,
   "id": "8bc64ea9",
   "metadata": {},
   "outputs": [],
   "source": []
  }
 ],
 "metadata": {
  "kernelspec": {
   "display_name": "titulo",
   "language": "python",
   "name": "python3"
  },
  "language_info": {
   "codemirror_mode": {
    "name": "ipython",
    "version": 3
   },
   "file_extension": ".py",
   "mimetype": "text/x-python",
   "name": "python",
   "nbconvert_exporter": "python",
   "pygments_lexer": "ipython3",
   "version": "3.12.9"
  }
 },
 "nbformat": 4,
 "nbformat_minor": 5
}
